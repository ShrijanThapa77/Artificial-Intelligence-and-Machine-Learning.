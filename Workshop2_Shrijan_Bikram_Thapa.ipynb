{
  "nbformat": 4,
  "nbformat_minor": 0,
  "metadata": {
    "colab": {
      "provenance": []
    },
    "kernelspec": {
      "name": "python3",
      "display_name": "Python 3"
    },
    "language_info": {
      "name": "python"
    }
  },
  "cells": [
    {
      "cell_type": "code",
      "execution_count": 1,
      "metadata": {
        "colab": {
          "base_uri": "https://localhost:8080/"
        },
        "id": "JOf95JP0aNfs",
        "outputId": "35fa5728-0bc4-48ce-8adc-4e9a1dd21923"
      },
      "outputs": [
        {
          "output_type": "stream",
          "name": "stdout",
          "text": [
            "Mounted at /content/drive\n"
          ]
        }
      ],
      "source": [
        "from google.colab import drive\n",
        "drive.mount('/content/drive')\n"
      ]
    },
    {
      "cell_type": "code",
      "source": [
        "import numpy as np\n",
        "\n",
        "def softmax(z):\n",
        "    \"\"\"\n",
        "    Compute the softmax probabilities for a given input matrix.\n",
        "\n",
        "    Parameters:\n",
        "    z (numpy.ndarray): Logits (raw scores) of shape (m, n), where\n",
        "        - m is the number of samples.\n",
        "        - n is the number of classes.\n",
        "\n",
        "    Returns:\n",
        "    numpy.ndarray: Softmax probability matrix of shape (m, n), where\n",
        "        each row sums to 1 and represents the probability\n",
        "        distribution over classes.\n",
        "\n",
        "    Notes:\n",
        "    - The input to softmax is typically computed as: z = XW + b.\n",
        "    - Uses numerical stabilization by subtracting the max value per row.\n",
        "    \"\"\"\n",
        "    # Numerical stabilization: subtract the max value in each row\n",
        "    z_stable = z - np.max(z, axis=1, keepdims=True)\n",
        "\n",
        "    # Compute the exponentials\n",
        "    exp_z = np.exp(z_stable)\n",
        "\n",
        "    # Compute the softmax probabilities\n",
        "    softmax_probs = exp_z / np.sum(exp_z, axis=1, keepdims=True)\n",
        "\n",
        "    return softmax_probs"
      ],
      "metadata": {
        "id": "pgbCr7Cmbqv7"
      },
      "execution_count": 11,
      "outputs": []
    },
    {
      "cell_type": "code",
      "source": [
        "z_test = np.array([[2.0, 1.0, 0.1], [1.0, 1.0, 1.0]])\n",
        "softmax_output = softmax(z_test)\n",
        "# Verify if the sum of probabilities for each row is 1 using assert\n",
        "row_sums = np.sum(softmax_output, axis=1)\n",
        "# Assert that the sum of each row is 1\n",
        "assert np.allclose(row_sums, 1), f\"Test failed: Row sums are {row_sums}\"\n",
        "print(\"Softmax function passed the test case!\")"
      ],
      "metadata": {
        "colab": {
          "base_uri": "https://localhost:8080/"
        },
        "id": "niUGIhWAekxn",
        "outputId": "62dcdc8b-beec-4135-8a0e-a93286a74134"
      },
      "execution_count": 12,
      "outputs": [
        {
          "output_type": "stream",
          "name": "stdout",
          "text": [
            "Softmax function passed the test case!\n"
          ]
        }
      ]
    },
    {
      "cell_type": "code",
      "source": [
        "import numpy as np\n",
        "\n",
        "def predict_softmax(X, W, b):\n",
        "    \"\"\"\n",
        "    Predict the class labels for a set of samples using the trained softmax model.\n",
        "\n",
        "    Parameters:\n",
        "    X (numpy.ndarray): Feature matrix of shape (n, d), where n is the number of samples and d is the\n",
        "        number of features.\n",
        "    W (numpy.ndarray): Weight matrix of shape (d, c), where c is the number of classes.\n",
        "    b (numpy.ndarray): Bias vector of shape (c,).\n",
        "\n",
        "    Returns:\n",
        "    numpy.ndarray: Predicted class labels of shape (n,), where each value is the index of the\n",
        "        predicted class.\n",
        "    \"\"\"\n",
        "    # Compute the logits (raw scores): XW + b\n",
        "    z = np.dot(X, W) + b\n",
        "\n",
        "    # Compute the softmax probabilities\n",
        "    y_pred = softmax(z)\n",
        "\n",
        "    # Predict the class with the highest probability for each sample\n",
        "    predicted_classes = np.argmax(y_pred, axis=1)\n",
        "\n",
        "    return predicted_classes"
      ],
      "metadata": {
        "id": "XR3IlnWscOIe"
      },
      "execution_count": 16,
      "outputs": []
    },
    {
      "cell_type": "code",
      "source": [
        "def loss_softmax(y_pred, y):\n",
        "    epsilon = 1e-12\n",
        "    y_pred = np.clip(y_pred, epsilon, 1.0 - epsilon)\n",
        "    return -np.sum(y * np.log(y_pred))"
      ],
      "metadata": {
        "id": "mjTNXKn2jlms"
      },
      "execution_count": 30,
      "outputs": []
    },
    {
      "cell_type": "code",
      "source": [
        "def cost_softmax(X, y, W, b):\n",
        "    \"\"\"\n",
        "    Compute the average softmax regression cost (cross-entropy loss) over all samples.\n",
        "    Parameters:\n",
        "    X (numpy.ndarray): Feature matrix of shape (n, d), where n is the number of samples and d is the\n",
        "    number of features.\n",
        "    y (numpy.ndarray): True labels (one-hot encoded) of shape (n, c), where n is the number of\n",
        "    samples and c is the number of classes.\n",
        "    W (numpy.ndarray): Weight matrix of shape (d, c).\n",
        "    b (numpy.ndarray): Bias vector of shape (c,).\n",
        "    Returns:\n",
        "    float: Average softmax cost (cross-entropy loss) over all samples.\n",
        "    \"\"\"\n",
        "    n = X.shape[0]\n",
        "    z = X @ W + b\n",
        "    y_pred = softmax(z)\n",
        "    total_loss = np.sum(loss_softmax(y_pred, y))\n",
        "    # Return average loss\n",
        "    return total_loss / n\n",
        "\n"
      ],
      "metadata": {
        "id": "5ujfoNwRjmom"
      },
      "execution_count": 31,
      "outputs": []
    },
    {
      "cell_type": "code",
      "source": [
        "# The test case assures that the cost for the incorrect prediction should be higher than for thecorrect prediction, confirming that the cost function behaves as expected.\n",
        "import numpy as np\n",
        "# Example 1: Correct Prediction (Closer predictions)\n",
        "X_correct = np.array([[1.0, 0.0], [0.0, 1.0]]) # Feature matrix for correct predictions\n",
        "y_correct = np.array([[1, 0], [0, 1]]) # True labels (one-hot encoded, matching predictions)\n",
        "W_correct = np.array([[5.0, -2.0], [-3.0, 5.0]]) # Weights for correct prediction\n",
        "b_correct = np.array([0.1, 0.1]) # Bias for correct prediction\n",
        "# Example 2: Incorrect Prediction (Far off predictions)\n",
        "X_incorrect = np.array([[0.1, 0.9], [0.8, 0.2]]) # Feature matrix for incorrect predictions\n",
        "y_incorrect = np.array([[1, 0], [0, 1]]) # True labels (one-hot encoded, incorrect predictions)\n",
        "W_incorrect = np.array([[0.1, 2.0], [1.5, 0.3]]) # Weights for incorrect prediction\n",
        "b_incorrect = np.array([0.5, 0.6]) # Bias for incorrect prediction\n",
        "# Compute cost for correct predictions\n",
        "cost_correct = cost_softmax(X_correct, y_correct, W_correct, b_correct)\n",
        "# Compute cost for incorrect predictions\n",
        "cost_incorrect = cost_softmax(X_incorrect, y_incorrect, W_incorrect, b_incorrect)\n",
        "# Check if the cost for incorrect predictions is greater than for correct predictions\n",
        "assert cost_incorrect > cost_correct, f\"Test failed: Incorrect cost {cost_incorrect} is not greater than correct cost {cost_correct}\"\n",
        "# Print the costs for verification\n",
        "print(\"Cost for correct prediction:\", cost_correct)\n",
        "print(\"Cost for incorrect prediction:\", cost_incorrect)\n",
        "print(\"Test passed!\")"
      ],
      "metadata": {
        "colab": {
          "base_uri": "https://localhost:8080/"
        },
        "id": "g3OsztAmjurL",
        "outputId": "35a407f2-5ddf-4175-b50b-074eee07e073"
      },
      "execution_count": 34,
      "outputs": [
        {
          "output_type": "stream",
          "name": "stdout",
          "text": [
            "Cost for correct prediction: 0.0006234364133349324\n",
            "Cost for incorrect prediction: 0.29930861359446115\n",
            "Test passed!\n"
          ]
        }
      ]
    },
    {
      "cell_type": "code",
      "source": [
        "def compute_gradient_softmax(X, y, W, b):\n",
        "\n",
        "# Compute the gradients of the cost function with respect to weights and biases.\n",
        "# Parameters:\n",
        "# X (numpy.ndarray): Feature matrix of shape (n, d).\n",
        "# y (numpy.ndarray): True labels (one-hot encoded) of shape (n, c).\n",
        "# W (numpy.ndarray): Weight matrix of shape (d, c).\n",
        "# b (numpy.ndarray): Bias vector of shape (c,).\n",
        "# Returns:\n",
        "# tuple: Gradients with respect to weights (d, c) and biases (c,).\n",
        "# \"\"\"\n",
        "    z = np.dot(X, W) + b\n",
        "    y_pred = softmax(z)\n",
        "    grad_W = -np.dot(X.T, (y - y_pred)) / X.shape[0]\n",
        "    grad_b = -np.sum(y - y_pred, axis=0) / X.shape[0]\n",
        "    return grad_W, grad_b"
      ],
      "metadata": {
        "id": "GrFj3dutj9Cj"
      },
      "execution_count": 41,
      "outputs": []
    },
    {
      "cell_type": "code",
      "source": [
        "import numpy as np\n",
        "# Define a simple feature matrix and true labels\n",
        "X_test = np.array([[0.2, 0.8], [0.5, 0.5], [0.9, 0.1]]) # Feature matrix (3 samples, 2 features)\n",
        "y_test = np.array([[1, 0, 0], [0, 1, 0], [0, 0, 1]]) # True labels (one-hot encoded, 3 classes)\n",
        "# Define weight matrix and bias vector\n",
        "W_test = np.array([[0.4, 0.2, 0.1], [0.3, 0.7, 0.5]]) # Weights (2 features, 3 classes)\n",
        "b_test = np.array([0.1, 0.2, 0.3]) # Bias (3 classes)\n",
        "# Compute the gradients using the function\n",
        "grad_W, grad_b = compute_gradient_softmax(X_test, y_test, W_test, b_test)\n",
        "# Manually compute the predicted probabilities (using softmax function)\n",
        "z_test = np.dot(X_test, W_test) + b_test\n",
        "y_pred_test = softmax(z_test)\n",
        "# Compute the manually computed gradients\n",
        "grad_W_manual = np.dot(X_test.T, (y_pred_test - y_test)) / X_test.shape[0]\n",
        "grad_b_manual = np.sum(y_pred_test - y_test, axis=0) / X_test.shape[0]\n",
        "# Assert that the gradients computed by the function match the manually computed gradients\n",
        "assert np.allclose(grad_W, grad_W_manual), f\"Test failed: Gradients w.r.t. W are not equal.\\\n",
        "nExpected: {grad_W_manual}\\nGot: {grad_W}\"\n",
        "assert np.allclose(grad_b, grad_b_manual), f\"Test failed: Gradients w.r.t. b are not equal.\\\n",
        "nExpected: {grad_b_manual}\\nGot: {grad_b}\"\n",
        "# Print the gradients for verification\n",
        "print(\"Gradient w.r.t. W:\", grad_W)\n",
        "print(\"Gradient w.r.t. b:\", grad_b)\n",
        "print(\"Test passed!\")"
      ],
      "metadata": {
        "colab": {
          "base_uri": "https://localhost:8080/"
        },
        "id": "uP04zEO8j9Nq",
        "outputId": "0ca826fc-8548-4719-f95b-52604c42284b"
      },
      "execution_count": 40,
      "outputs": [
        {
          "output_type": "stream",
          "name": "stdout",
          "text": [
            "Gradient w.r.t. W: [[ 0.1031051   0.01805685 -0.12116196]\n",
            " [-0.13600547  0.00679023  0.12921524]]\n",
            "Gradient w.r.t. b: [-0.03290036  0.02484708  0.00805328]\n",
            "Test passed!\n"
          ]
        }
      ]
    },
    {
      "cell_type": "code",
      "source": [
        "def gradient_descent_softmax(X, y, W, b, alpha, n_iter, show_cost=False):\n",
        "    cost_history = []\n",
        "    for i in range(n_iter):\n",
        "        grad_W, grad_b = compute_gradient_softmax(X, y, W, b)\n",
        "        W -= alpha * grad_W\n",
        "        b -= alpha * grad_b\n",
        "        if show_cost:\n",
        "            cost = loss_softmax(softmax(np.dot(X, W) + b), y)\n",
        "            cost_history.append(cost)\n",
        "    return W, b, cost_history"
      ],
      "metadata": {
        "id": "DeBaT7mNlv8f"
      },
      "execution_count": 42,
      "outputs": []
    },
    {
      "cell_type": "code",
      "source": [
        "import pandas as pd\n",
        "import numpy as np\n",
        "import matplotlib.pyplot as plt\n",
        "from sklearn.model_selection import train_test_split\n",
        "\n",
        "def load_and_prepare_mnist(csv_file, test_size=0.2, random_state=42):\n",
        "    \"\"\"\n",
        "    Reads the MNIST CSV file, splits data into train/test sets, and plots one image per class.\n",
        "    Arguments:\n",
        "    csv_file (str) : Path to the CSV file containing MNIST data.\n",
        "    test_size (float) : Proportion of the data to use as the test set (default: 0.2).\n",
        "    random_state (int) : Random seed for reproducibility (default: 42).\n",
        "    Returns:\n",
        "    X_train, X_test, y_train, y_test : Split dataset.\n",
        "    \"\"\"\n",
        "    df = pd.read_csv(csv_file)\n",
        "    y = df.iloc[:, 0].values\n",
        "    X = df.iloc[:, 1:].values\n",
        "    X = X / 255.0\n",
        "    X_train, X_test, y_train, y_test = train_test_split(X, y, test_size=test_size, random_state=random_state)\n",
        "    plot_sample_images(X, y)\n",
        "    return X_train, X_test, y_train, y_test\n",
        "\n",
        "def plot_sample_images(X, y):\n",
        "    plt.figure(figsize=(10, 10))\n",
        "    for digit in range(10):\n",
        "        index = np.where(y == digit)[0][0]\n",
        "        image = X[index].reshape(28, 28)\n",
        "        plt.subplot(2, 5, digit + 1)\n",
        "        plt.imshow(image, cmap=\"gray\")\n",
        "        plt.title(f\"Class {digit}\")\n",
        "        plt.axis(\"off\")\n",
        "    plt.tight_layout()\n",
        "    plt.show()\n",
        "\n",
        "file_path = \"/content/drive/MyDrive/data/mnist_dataset.csv\"\n",
        "X_train, X_test, y_train, y_test = load_and_prepare_mnist(file_path)"
      ],
      "metadata": {
        "colab": {
          "base_uri": "https://localhost:8080/",
          "height": 636
        },
        "id": "clqKdD52mBUk",
        "outputId": "dc49e85a-e1dc-45d6-aa5d-81db7690e705"
      },
      "execution_count": 54,
      "outputs": [
        {
          "output_type": "display_data",
          "data": {
            "text/plain": [
              "<Figure size 1000x1000 with 10 Axes>"
            ],
            "image/png": "[encoded data removed]"
          },
          "metadata": {}
        }
      ]
    },
    {
      "cell_type": "code",
      "source": [
        "import numpy as np\n",
        "import matplotlib.pyplot as plt\n",
        "from sklearn.preprocessing import OneHotEncoder\n",
        "\n",
        "# Check if y_train is one-hot encoded\n",
        "if len(y_train.shape) == 1:\n",
        "    encoder = OneHotEncoder(sparse_output=False)  # Use sparse_output=False for newer versions of sklearn\n",
        "    y_train = encoder.fit_transform(y_train.reshape(-1, 1))  # One-hot encode labels\n",
        "    y_test = encoder.transform(y_test.reshape(-1, 1))  # One-hot encode test labels\n",
        "\n",
        "# Now y_train is one-hot encoded, and we can proceed to use it\n",
        "d = X_train.shape[1]  # Number of features (columns in X_train)\n",
        "c = y_train.shape[1]  # Number of classes (columns in y_train after one-hot encoding)\n",
        "\n",
        "# Initialize weights with small random values and biases with zeros\n",
        "W = np.random.randn(d, c) * 0.01  # Small random weights initialized\n",
        "b = np.zeros(c)  # Bias initialized to 0\n",
        "\n",
        "# Set hyperparameters for gradient descent\n",
        "alpha = 0.1  # Learning rate\n",
        "n_iter = 1000  # Number of iterations to run gradient descent\n",
        "\n",
        "# Define the softmax function\n",
        "def softmax(z):\n",
        "    exp_z = np.exp(z - np.max(z, axis=1, keepdims=True))  # Subtract max for numerical stability\n",
        "    return exp_z / np.sum(exp_z, axis=1, keepdims=True)\n",
        "\n",
        "# Define the gradient descent function for softmax regression\n",
        "def gradient_descent_softmax(X, y, W, b, alpha, n_iter, show_cost=False):\n",
        "    m = X.shape[0]  # Number of training examples\n",
        "    cost_history = []\n",
        "\n",
        "    for i in range(n_iter):\n",
        "        # Forward pass: Compute predictions\n",
        "        Z = np.dot(X, W) + b\n",
        "        A = softmax(Z)\n",
        "\n",
        "        # Compute the cost (cross-entropy loss)\n",
        "        cost = -np.mean(np.sum(y * np.log(A + 1e-8), axis=1))  # Add a small value to avoid log(0)\n",
        "        cost_history.append(cost)\n",
        "\n",
        "        # Backward pass: Compute gradients\n",
        "        dZ = A - y\n",
        "        dW = np.dot(X.T, dZ) / m\n",
        "        db = np.sum(dZ, axis=0) / m\n",
        "\n",
        "        # Update parameters\n",
        "        W -= alpha * dW\n",
        "        b -= alpha * db\n",
        "\n",
        "        # Optionally print the cost\n",
        "        if show_cost and i % 100 == 0:\n",
        "            print(f\"Iteration {i}: Cost = {cost}\")\n",
        "\n",
        "    return W, b, cost_history\n",
        "\n",
        "# Train the model using gradient descent\n",
        "W_opt, b_opt, cost_history = gradient_descent_softmax(X_train, y_train, W, b, alpha, n_iter, show_cost=True)\n",
        "\n",
        "# Plot the cost history to visualize the convergence\n",
        "plt.plot(cost_history)\n",
        "plt.title(\"Cost Function vs. Iterations\")\n",
        "plt.xlabel(\"Iterations\")\n",
        "plt.ylabel(\"Cost\")\n",
        "plt.grid(True)\n",
        "plt.show()"
      ],
      "metadata": {
        "colab": {
          "base_uri": "https://localhost:8080/",
          "height": 654
        },
        "id": "Nqg_Z773nk-a",
        "outputId": "7317fd9c-acb0-49fe-c4ac-7a0f3376d987"
      },
      "execution_count": 62,
      "outputs": [
        {
          "output_type": "stream",
          "name": "stdout",
          "text": [
            "Iteration 0: Cost = 2.3127931292392994\n",
            "Iteration 100: Cost = 0.608626397500416\n",
            "Iteration 200: Cost = 0.4896871496456994\n",
            "Iteration 300: Cost = 0.4408582623389972\n",
            "Iteration 400: Cost = 0.4127153613845127\n",
            "Iteration 500: Cost = 0.39382907991231486\n",
            "Iteration 600: Cost = 0.38000482224085924\n",
            "Iteration 700: Cost = 0.36930176508942386\n",
            "Iteration 800: Cost = 0.3606840807402923\n",
            "Iteration 900: Cost = 0.3535422358521125\n"
          ]
        },
        {
          "output_type": "display_data",
          "data": {
            "text/plain": [
              "<Figure size 640x480 with 1 Axes>"
            ],
            "image/png": "[encoded data removed]"
          },
          "metadata": {}
        }
      ]
    }
  ]
}